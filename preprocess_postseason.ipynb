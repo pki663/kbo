{
 "cells": [
  {
   "cell_type": "code",
   "execution_count": 1,
   "metadata": {},
   "outputs": [],
   "source": [
    "import pandas as pd\n",
    "import plotly.graph_objects as go\n",
    "from plotly.io import write_json, read_json\n",
    "from dash import dash_table\n",
    "from dash.dash_table.Format import Format, Scheme\n",
    "import pickle\n",
    "import math\n",
    "import os\n",
    "import pandas as pd"
   ]
  },
  {
   "cell_type": "code",
   "execution_count": 2,
   "metadata": {},
   "outputs": [],
   "source": [
    "team_color = {\n",
    "    'LG':['#C30452', '#000000'],\n",
    "    'KT':['#000000', '#EB1C24'],\n",
    "    '두산':['#FFFFFF', '#131230'],\n",
    "    'KIA':['#EA0029', '#06141F'],\n",
    "    '삼성':['#C0C0C0', '#074CA1']\n",
    "}"
   ]
  },
  {
   "cell_type": "code",
   "execution_count": 3,
   "metadata": {},
   "outputs": [],
   "source": [
    "def log5(team_ratio: float, opponent_ratio: float) -> float:\n",
    "    return team_ratio * (1-opponent_ratio) / (team_ratio * (1-opponent_ratio) + opponent_ratio * (1-team_ratio))\n",
    "\n",
    "def postseason_ratio(winto, team_ratio, team_win = 0, opponent_win = 0):\n",
    "    if team_win >= winto:\n",
    "        return {(winto, opponent_win): 1.0}\n",
    "    elif opponent_win >= winto:\n",
    "        return {(team_win, winto): 1.0}\n",
    "    opponent_ratio = 1 - team_ratio\n",
    "    team_rest = winto - team_win\n",
    "    opponent_rest = winto - opponent_win\n",
    "    result = {(winto, opponent_win + x): team_ratio ** team_rest * opponent_ratio ** x * math.comb(team_rest + x - 1, team_rest - 1) for x in range(opponent_rest)}\n",
    "    result.update({(team_win + x, winto): opponent_ratio ** opponent_rest * team_ratio ** x * math.comb(opponent_rest + x - 1, opponent_rest - 1) for x in range(team_rest)})\n",
    "    return result"
   ]
  },
  {
   "cell_type": "code",
   "execution_count": 18,
   "metadata": {},
   "outputs": [
    {
     "data": {
      "application/vnd.plotly.v1+json": {
       "config": {
        "plotlyServerURL": "https://plot.ly"
       },
       "data": [],
       "layout": {
        "hovermode": "x",
        "margin": {
         "b": 10,
         "l": 10,
         "r": 10,
         "t": 50
        },
        "paper_bgcolor": "#DFDFDF",
        "plot_bgcolor": "#D9F2D0",
        "template": {
         "data": {
          "bar": [
           {
            "error_x": {
             "color": "#2a3f5f"
            },
            "error_y": {
             "color": "#2a3f5f"
            },
            "marker": {
             "line": {
              "color": "#E5ECF6",
              "width": 0.5
             },
             "pattern": {
              "fillmode": "overlay",
              "size": 10,
              "solidity": 0.2
             }
            },
            "type": "bar"
           }
          ],
          "barpolar": [
           {
            "marker": {
             "line": {
              "color": "#E5ECF6",
              "width": 0.5
             },
             "pattern": {
              "fillmode": "overlay",
              "size": 10,
              "solidity": 0.2
             }
            },
            "type": "barpolar"
           }
          ],
          "carpet": [
           {
            "aaxis": {
             "endlinecolor": "#2a3f5f",
             "gridcolor": "white",
             "linecolor": "white",
             "minorgridcolor": "white",
             "startlinecolor": "#2a3f5f"
            },
            "baxis": {
             "endlinecolor": "#2a3f5f",
             "gridcolor": "white",
             "linecolor": "white",
             "minorgridcolor": "white",
             "startlinecolor": "#2a3f5f"
            },
            "type": "carpet"
           }
          ],
          "choropleth": [
           {
            "colorbar": {
             "outlinewidth": 0,
             "ticks": ""
            },
            "type": "choropleth"
           }
          ],
          "contour": [
           {
            "colorbar": {
             "outlinewidth": 0,
             "ticks": ""
            },
            "colorscale": [
             [
              0,
              "#0d0887"
             ],
             [
              0.1111111111111111,
              "#46039f"
             ],
             [
              0.2222222222222222,
              "#7201a8"
             ],
             [
              0.3333333333333333,
              "#9c179e"
             ],
             [
              0.4444444444444444,
              "#bd3786"
             ],
             [
              0.5555555555555556,
              "#d8576b"
             ],
             [
              0.6666666666666666,
              "#ed7953"
             ],
             [
              0.7777777777777778,
              "#fb9f3a"
             ],
             [
              0.8888888888888888,
              "#fdca26"
             ],
             [
              1,
              "#f0f921"
             ]
            ],
            "type": "contour"
           }
          ],
          "contourcarpet": [
           {
            "colorbar": {
             "outlinewidth": 0,
             "ticks": ""
            },
            "type": "contourcarpet"
           }
          ],
          "heatmap": [
           {
            "colorbar": {
             "outlinewidth": 0,
             "ticks": ""
            },
            "colorscale": [
             [
              0,
              "#0d0887"
             ],
             [
              0.1111111111111111,
              "#46039f"
             ],
             [
              0.2222222222222222,
              "#7201a8"
             ],
             [
              0.3333333333333333,
              "#9c179e"
             ],
             [
              0.4444444444444444,
              "#bd3786"
             ],
             [
              0.5555555555555556,
              "#d8576b"
             ],
             [
              0.6666666666666666,
              "#ed7953"
             ],
             [
              0.7777777777777778,
              "#fb9f3a"
             ],
             [
              0.8888888888888888,
              "#fdca26"
             ],
             [
              1,
              "#f0f921"
             ]
            ],
            "type": "heatmap"
           }
          ],
          "heatmapgl": [
           {
            "colorbar": {
             "outlinewidth": 0,
             "ticks": ""
            },
            "colorscale": [
             [
              0,
              "#0d0887"
             ],
             [
              0.1111111111111111,
              "#46039f"
             ],
             [
              0.2222222222222222,
              "#7201a8"
             ],
             [
              0.3333333333333333,
              "#9c179e"
             ],
             [
              0.4444444444444444,
              "#bd3786"
             ],
             [
              0.5555555555555556,
              "#d8576b"
             ],
             [
              0.6666666666666666,
              "#ed7953"
             ],
             [
              0.7777777777777778,
              "#fb9f3a"
             ],
             [
              0.8888888888888888,
              "#fdca26"
             ],
             [
              1,
              "#f0f921"
             ]
            ],
            "type": "heatmapgl"
           }
          ],
          "histogram": [
           {
            "marker": {
             "pattern": {
              "fillmode": "overlay",
              "size": 10,
              "solidity": 0.2
             }
            },
            "type": "histogram"
           }
          ],
          "histogram2d": [
           {
            "colorbar": {
             "outlinewidth": 0,
             "ticks": ""
            },
            "colorscale": [
             [
              0,
              "#0d0887"
             ],
             [
              0.1111111111111111,
              "#46039f"
             ],
             [
              0.2222222222222222,
              "#7201a8"
             ],
             [
              0.3333333333333333,
              "#9c179e"
             ],
             [
              0.4444444444444444,
              "#bd3786"
             ],
             [
              0.5555555555555556,
              "#d8576b"
             ],
             [
              0.6666666666666666,
              "#ed7953"
             ],
             [
              0.7777777777777778,
              "#fb9f3a"
             ],
             [
              0.8888888888888888,
              "#fdca26"
             ],
             [
              1,
              "#f0f921"
             ]
            ],
            "type": "histogram2d"
           }
          ],
          "histogram2dcontour": [
           {
            "colorbar": {
             "outlinewidth": 0,
             "ticks": ""
            },
            "colorscale": [
             [
              0,
              "#0d0887"
             ],
             [
              0.1111111111111111,
              "#46039f"
             ],
             [
              0.2222222222222222,
              "#7201a8"
             ],
             [
              0.3333333333333333,
              "#9c179e"
             ],
             [
              0.4444444444444444,
              "#bd3786"
             ],
             [
              0.5555555555555556,
              "#d8576b"
             ],
             [
              0.6666666666666666,
              "#ed7953"
             ],
             [
              0.7777777777777778,
              "#fb9f3a"
             ],
             [
              0.8888888888888888,
              "#fdca26"
             ],
             [
              1,
              "#f0f921"
             ]
            ],
            "type": "histogram2dcontour"
           }
          ],
          "mesh3d": [
           {
            "colorbar": {
             "outlinewidth": 0,
             "ticks": ""
            },
            "type": "mesh3d"
           }
          ],
          "parcoords": [
           {
            "line": {
             "colorbar": {
              "outlinewidth": 0,
              "ticks": ""
             }
            },
            "type": "parcoords"
           }
          ],
          "pie": [
           {
            "automargin": true,
            "type": "pie"
           }
          ],
          "scatter": [
           {
            "fillpattern": {
             "fillmode": "overlay",
             "size": 10,
             "solidity": 0.2
            },
            "type": "scatter"
           }
          ],
          "scatter3d": [
           {
            "line": {
             "colorbar": {
              "outlinewidth": 0,
              "ticks": ""
             }
            },
            "marker": {
             "colorbar": {
              "outlinewidth": 0,
              "ticks": ""
             }
            },
            "type": "scatter3d"
           }
          ],
          "scattercarpet": [
           {
            "marker": {
             "colorbar": {
              "outlinewidth": 0,
              "ticks": ""
             }
            },
            "type": "scattercarpet"
           }
          ],
          "scattergeo": [
           {
            "marker": {
             "colorbar": {
              "outlinewidth": 0,
              "ticks": ""
             }
            },
            "type": "scattergeo"
           }
          ],
          "scattergl": [
           {
            "marker": {
             "colorbar": {
              "outlinewidth": 0,
              "ticks": ""
             }
            },
            "type": "scattergl"
           }
          ],
          "scattermapbox": [
           {
            "marker": {
             "colorbar": {
              "outlinewidth": 0,
              "ticks": ""
             }
            },
            "type": "scattermapbox"
           }
          ],
          "scatterpolar": [
           {
            "marker": {
             "colorbar": {
              "outlinewidth": 0,
              "ticks": ""
             }
            },
            "type": "scatterpolar"
           }
          ],
          "scatterpolargl": [
           {
            "marker": {
             "colorbar": {
              "outlinewidth": 0,
              "ticks": ""
             }
            },
            "type": "scatterpolargl"
           }
          ],
          "scatterternary": [
           {
            "marker": {
             "colorbar": {
              "outlinewidth": 0,
              "ticks": ""
             }
            },
            "type": "scatterternary"
           }
          ],
          "surface": [
           {
            "colorbar": {
             "outlinewidth": 0,
             "ticks": ""
            },
            "colorscale": [
             [
              0,
              "#0d0887"
             ],
             [
              0.1111111111111111,
              "#46039f"
             ],
             [
              0.2222222222222222,
              "#7201a8"
             ],
             [
              0.3333333333333333,
              "#9c179e"
             ],
             [
              0.4444444444444444,
              "#bd3786"
             ],
             [
              0.5555555555555556,
              "#d8576b"
             ],
             [
              0.6666666666666666,
              "#ed7953"
             ],
             [
              0.7777777777777778,
              "#fb9f3a"
             ],
             [
              0.8888888888888888,
              "#fdca26"
             ],
             [
              1,
              "#f0f921"
             ]
            ],
            "type": "surface"
           }
          ],
          "table": [
           {
            "cells": {
             "fill": {
              "color": "#EBF0F8"
             },
             "line": {
              "color": "white"
             }
            },
            "header": {
             "fill": {
              "color": "#C8D4E3"
             },
             "line": {
              "color": "white"
             }
            },
            "type": "table"
           }
          ]
         },
         "layout": {
          "annotationdefaults": {
           "arrowcolor": "#2a3f5f",
           "arrowhead": 0,
           "arrowwidth": 1
          },
          "autotypenumbers": "strict",
          "coloraxis": {
           "colorbar": {
            "outlinewidth": 0,
            "ticks": ""
           }
          },
          "colorscale": {
           "diverging": [
            [
             0,
             "#8e0152"
            ],
            [
             0.1,
             "#c51b7d"
            ],
            [
             0.2,
             "#de77ae"
            ],
            [
             0.3,
             "#f1b6da"
            ],
            [
             0.4,
             "#fde0ef"
            ],
            [
             0.5,
             "#f7f7f7"
            ],
            [
             0.6,
             "#e6f5d0"
            ],
            [
             0.7,
             "#b8e186"
            ],
            [
             0.8,
             "#7fbc41"
            ],
            [
             0.9,
             "#4d9221"
            ],
            [
             1,
             "#276419"
            ]
           ],
           "sequential": [
            [
             0,
             "#0d0887"
            ],
            [
             0.1111111111111111,
             "#46039f"
            ],
            [
             0.2222222222222222,
             "#7201a8"
            ],
            [
             0.3333333333333333,
             "#9c179e"
            ],
            [
             0.4444444444444444,
             "#bd3786"
            ],
            [
             0.5555555555555556,
             "#d8576b"
            ],
            [
             0.6666666666666666,
             "#ed7953"
            ],
            [
             0.7777777777777778,
             "#fb9f3a"
            ],
            [
             0.8888888888888888,
             "#fdca26"
            ],
            [
             1,
             "#f0f921"
            ]
           ],
           "sequentialminus": [
            [
             0,
             "#0d0887"
            ],
            [
             0.1111111111111111,
             "#46039f"
            ],
            [
             0.2222222222222222,
             "#7201a8"
            ],
            [
             0.3333333333333333,
             "#9c179e"
            ],
            [
             0.4444444444444444,
             "#bd3786"
            ],
            [
             0.5555555555555556,
             "#d8576b"
            ],
            [
             0.6666666666666666,
             "#ed7953"
            ],
            [
             0.7777777777777778,
             "#fb9f3a"
            ],
            [
             0.8888888888888888,
             "#fdca26"
            ],
            [
             1,
             "#f0f921"
            ]
           ]
          },
          "colorway": [
           "#636efa",
           "#EF553B",
           "#00cc96",
           "#ab63fa",
           "#FFA15A",
           "#19d3f3",
           "#FF6692",
           "#B6E880",
           "#FF97FF",
           "#FECB52"
          ],
          "font": {
           "color": "#2a3f5f"
          },
          "geo": {
           "bgcolor": "white",
           "lakecolor": "white",
           "landcolor": "#E5ECF6",
           "showlakes": true,
           "showland": true,
           "subunitcolor": "white"
          },
          "hoverlabel": {
           "align": "left"
          },
          "hovermode": "closest",
          "mapbox": {
           "style": "light"
          },
          "paper_bgcolor": "white",
          "plot_bgcolor": "#E5ECF6",
          "polar": {
           "angularaxis": {
            "gridcolor": "white",
            "linecolor": "white",
            "ticks": ""
           },
           "bgcolor": "#E5ECF6",
           "radialaxis": {
            "gridcolor": "white",
            "linecolor": "white",
            "ticks": ""
           }
          },
          "scene": {
           "xaxis": {
            "backgroundcolor": "#E5ECF6",
            "gridcolor": "white",
            "gridwidth": 2,
            "linecolor": "white",
            "showbackground": true,
            "ticks": "",
            "zerolinecolor": "white"
           },
           "yaxis": {
            "backgroundcolor": "#E5ECF6",
            "gridcolor": "white",
            "gridwidth": 2,
            "linecolor": "white",
            "showbackground": true,
            "ticks": "",
            "zerolinecolor": "white"
           },
           "zaxis": {
            "backgroundcolor": "#E5ECF6",
            "gridcolor": "white",
            "gridwidth": 2,
            "linecolor": "white",
            "showbackground": true,
            "ticks": "",
            "zerolinecolor": "white"
           }
          },
          "shapedefaults": {
           "line": {
            "color": "#2a3f5f"
           }
          },
          "ternary": {
           "aaxis": {
            "gridcolor": "white",
            "linecolor": "white",
            "ticks": ""
           },
           "baxis": {
            "gridcolor": "white",
            "linecolor": "white",
            "ticks": ""
           },
           "bgcolor": "#E5ECF6",
           "caxis": {
            "gridcolor": "white",
            "linecolor": "white",
            "ticks": ""
           }
          },
          "title": {
           "x": 0.05
          },
          "xaxis": {
           "automargin": true,
           "gridcolor": "white",
           "linecolor": "white",
           "ticks": "",
           "title": {
            "standoff": 15
           },
           "zerolinecolor": "white",
           "zerolinewidth": 2
          },
          "yaxis": {
           "automargin": true,
           "gridcolor": "white",
           "linecolor": "white",
           "ticks": "",
           "title": {
            "standoff": 15
           },
           "zerolinecolor": "white",
           "zerolinewidth": 2
          }
         }
        },
        "title": {
         "text": "진출 확률"
        },
        "xaxis": {
         "dtick": 1,
         "fixedrange": true,
         "range": [
          0,
          7
         ],
         "title": {
          "text": "게임 수"
         }
        },
        "yaxis": {
         "fixedrange": true,
         "range": [
          0,
          1
         ],
         "tickformat": ",.3%"
        }
       }
      }
     },
     "metadata": {},
     "output_type": "display_data"
    }
   ],
   "source": [
    "wc_fig = go.Figure(layout = go.Layout(hovermode = 'x'))\n",
    "spo_fig = go.Figure(layout = go.Layout(hovermode = 'x'))\n",
    "po_fig = go.Figure(layout = go.Layout(hovermode = 'x'))\n",
    "ks_fig = go.Figure(layout = go.Layout(hovermode = 'x'))\n",
    "wc_fig.update_xaxes(title_text = '게임 수', range = [0, 2], fixedrange = True, dtick = 1)\n",
    "spo_fig.update_xaxes(title_text = '게임 수', range = [0, 5], fixedrange = True, dtick = 1)\n",
    "po_fig.update_xaxes(title_text = '게임 수', range = [0, 5], fixedrange = True, dtick = 1)\n",
    "ks_fig.update_xaxes(title_text = '게임 수', range = [0, 7], fixedrange = True, dtick = 1)\n",
    "wc_fig.update_yaxes(range = [0, 1], fixedrange = True, tickformat = ',.3%')\n",
    "spo_fig.update_yaxes(range = [0, 1], fixedrange = True, tickformat = ',.3%')\n",
    "po_fig.update_yaxes(range = [0, 1], fixedrange = True, tickformat = ',.3%')\n",
    "ks_fig.update_yaxes(range = [0, 1], fixedrange = True, tickformat = ',.3%')\n",
    "wc_fig.update_layout(title_text = '진출 확률', margin_l=10, margin_r=10, margin_b=10, margin_t=50, plot_bgcolor='#D9F2D0', paper_bgcolor=\"#DFDFDF\")\n",
    "spo_fig.update_layout(title_text = '진출 확률', margin_l=10, margin_r=10, margin_b=10, margin_t=50, plot_bgcolor='#D9F2D0', paper_bgcolor=\"#DFDFDF\")\n",
    "po_fig.update_layout(title_text = '진출 확률', margin_l=10, margin_r=10, margin_b=10, margin_t=50, plot_bgcolor='#D9F2D0', paper_bgcolor=\"#DFDFDF\")\n",
    "ks_fig.update_layout(title_text = '진출 확률', margin_l=10, margin_r=10, margin_b=10, margin_t=50, plot_bgcolor='#D9F2D0', paper_bgcolor=\"#DFDFDF\")"
   ]
  },
  {
   "cell_type": "code",
   "execution_count": 7,
   "metadata": {},
   "outputs": [],
   "source": [
    "ds_gamewin = log5(0.521, 0.507)\n",
    "ds_win = [sum([b for a, b in postseason_ratio(2, ds_gamewin, x, y).items() if a[0] == 2]) \n",
    "    for x, y in [(1,0), (1,1), (1,2)]]\n",
    "kt_win = list(map(lambda x: 1 - x, ds_win))"
   ]
  },
  {
   "cell_type": "code",
   "execution_count": 9,
   "metadata": {},
   "outputs": [
    {
     "data": {
      "application/vnd.plotly.v1+json": {
       "config": {
        "plotlyServerURL": "https://plot.ly"
       },
       "data": [
        {
         "legendgroup": "두산",
         "line": {
          "color": "#FFFFFF",
          "dash": "solid",
          "width": 3
         },
         "marker": {
          "color": "#131230",
          "size": 3
         },
         "mode": "lines",
         "name": "두산",
         "text": [
          "1승 0패",
          "1승 1패",
          "1승 2패"
         ],
         "type": "scatter",
         "visible": "legendonly",
         "x": [
          0,
          1,
          2
         ],
         "y": [
          0.7638120061438068,
          0.5140082368432638,
          0
         ]
        },
        {
         "legendgroup": "kt",
         "line": {
          "color": "#000000",
          "dash": "solid",
          "width": 3
         },
         "marker": {
          "color": "#EB1C24",
          "size": 3
         },
         "mode": "lines",
         "name": "kt",
         "text": [
          "0승 1패",
          "1승 1패",
          "2승 1패"
         ],
         "type": "scatter",
         "x": [
          0,
          1,
          2
         ],
         "y": [
          0.23618799385619316,
          0.4859917631567362,
          1
         ]
        },
        {
         "hoverinfo": "skip",
         "legendgroup": "두산",
         "line": {
          "color": "#FFFFFF",
          "dash": "dash",
          "width": 3
         },
         "marker": {
          "color": "#131230",
          "size": 3
         },
         "mode": "lines",
         "showlegend": false,
         "type": "scatter",
         "visible": "legendonly",
         "x": [
          0,
          1
         ],
         "y": [
          0.7638120061438068,
          1
         ]
        },
        {
         "hoverinfo": "skip",
         "legendgroup": "두산",
         "line": {
          "color": "#FFFFFF",
          "dash": "dash",
          "width": 3
         },
         "marker": {
          "color": "#131230",
          "size": 3
         },
         "mode": "lines",
         "showlegend": false,
         "type": "scatter",
         "visible": "legendonly",
         "x": [
          1,
          2
         ],
         "y": [
          0.5140082368432638,
          1
         ]
        },
        {
         "hoverinfo": "skip",
         "legendgroup": "kt",
         "line": {
          "color": "#000000",
          "dash": "dash",
          "width": 3
         },
         "marker": {
          "color": "#EB1C24",
          "size": 3
         },
         "mode": "lines",
         "name": "kt",
         "showlegend": false,
         "type": "scatter",
         "x": [
          0,
          1
         ],
         "y": [
          0.23618799385619316,
          0
         ]
        },
        {
         "hoverinfo": "skip",
         "legendgroup": "kt",
         "line": {
          "color": "#000000",
          "dash": "dash",
          "width": 3
         },
         "marker": {
          "color": "#EB1C24",
          "size": 3
         },
         "mode": "lines",
         "name": "kt",
         "showlegend": false,
         "type": "scatter",
         "x": [
          1,
          2
         ],
         "y": [
          0.4859917631567362,
          0
         ]
        }
       ],
       "layout": {
        "hovermode": "x",
        "margin": {
         "b": 10,
         "l": 10,
         "r": 10,
         "t": 50
        },
        "paper_bgcolor": "#DFDFDF",
        "plot_bgcolor": "#D9F2D0",
        "template": {
         "data": {
          "bar": [
           {
            "error_x": {
             "color": "#2a3f5f"
            },
            "error_y": {
             "color": "#2a3f5f"
            },
            "marker": {
             "line": {
              "color": "#E5ECF6",
              "width": 0.5
             },
             "pattern": {
              "fillmode": "overlay",
              "size": 10,
              "solidity": 0.2
             }
            },
            "type": "bar"
           }
          ],
          "barpolar": [
           {
            "marker": {
             "line": {
              "color": "#E5ECF6",
              "width": 0.5
             },
             "pattern": {
              "fillmode": "overlay",
              "size": 10,
              "solidity": 0.2
             }
            },
            "type": "barpolar"
           }
          ],
          "carpet": [
           {
            "aaxis": {
             "endlinecolor": "#2a3f5f",
             "gridcolor": "white",
             "linecolor": "white",
             "minorgridcolor": "white",
             "startlinecolor": "#2a3f5f"
            },
            "baxis": {
             "endlinecolor": "#2a3f5f",
             "gridcolor": "white",
             "linecolor": "white",
             "minorgridcolor": "white",
             "startlinecolor": "#2a3f5f"
            },
            "type": "carpet"
           }
          ],
          "choropleth": [
           {
            "colorbar": {
             "outlinewidth": 0,
             "ticks": ""
            },
            "type": "choropleth"
           }
          ],
          "contour": [
           {
            "colorbar": {
             "outlinewidth": 0,
             "ticks": ""
            },
            "colorscale": [
             [
              0,
              "#0d0887"
             ],
             [
              0.1111111111111111,
              "#46039f"
             ],
             [
              0.2222222222222222,
              "#7201a8"
             ],
             [
              0.3333333333333333,
              "#9c179e"
             ],
             [
              0.4444444444444444,
              "#bd3786"
             ],
             [
              0.5555555555555556,
              "#d8576b"
             ],
             [
              0.6666666666666666,
              "#ed7953"
             ],
             [
              0.7777777777777778,
              "#fb9f3a"
             ],
             [
              0.8888888888888888,
              "#fdca26"
             ],
             [
              1,
              "#f0f921"
             ]
            ],
            "type": "contour"
           }
          ],
          "contourcarpet": [
           {
            "colorbar": {
             "outlinewidth": 0,
             "ticks": ""
            },
            "type": "contourcarpet"
           }
          ],
          "heatmap": [
           {
            "colorbar": {
             "outlinewidth": 0,
             "ticks": ""
            },
            "colorscale": [
             [
              0,
              "#0d0887"
             ],
             [
              0.1111111111111111,
              "#46039f"
             ],
             [
              0.2222222222222222,
              "#7201a8"
             ],
             [
              0.3333333333333333,
              "#9c179e"
             ],
             [
              0.4444444444444444,
              "#bd3786"
             ],
             [
              0.5555555555555556,
              "#d8576b"
             ],
             [
              0.6666666666666666,
              "#ed7953"
             ],
             [
              0.7777777777777778,
              "#fb9f3a"
             ],
             [
              0.8888888888888888,
              "#fdca26"
             ],
             [
              1,
              "#f0f921"
             ]
            ],
            "type": "heatmap"
           }
          ],
          "heatmapgl": [
           {
            "colorbar": {
             "outlinewidth": 0,
             "ticks": ""
            },
            "colorscale": [
             [
              0,
              "#0d0887"
             ],
             [
              0.1111111111111111,
              "#46039f"
             ],
             [
              0.2222222222222222,
              "#7201a8"
             ],
             [
              0.3333333333333333,
              "#9c179e"
             ],
             [
              0.4444444444444444,
              "#bd3786"
             ],
             [
              0.5555555555555556,
              "#d8576b"
             ],
             [
              0.6666666666666666,
              "#ed7953"
             ],
             [
              0.7777777777777778,
              "#fb9f3a"
             ],
             [
              0.8888888888888888,
              "#fdca26"
             ],
             [
              1,
              "#f0f921"
             ]
            ],
            "type": "heatmapgl"
           }
          ],
          "histogram": [
           {
            "marker": {
             "pattern": {
              "fillmode": "overlay",
              "size": 10,
              "solidity": 0.2
             }
            },
            "type": "histogram"
           }
          ],
          "histogram2d": [
           {
            "colorbar": {
             "outlinewidth": 0,
             "ticks": ""
            },
            "colorscale": [
             [
              0,
              "#0d0887"
             ],
             [
              0.1111111111111111,
              "#46039f"
             ],
             [
              0.2222222222222222,
              "#7201a8"
             ],
             [
              0.3333333333333333,
              "#9c179e"
             ],
             [
              0.4444444444444444,
              "#bd3786"
             ],
             [
              0.5555555555555556,
              "#d8576b"
             ],
             [
              0.6666666666666666,
              "#ed7953"
             ],
             [
              0.7777777777777778,
              "#fb9f3a"
             ],
             [
              0.8888888888888888,
              "#fdca26"
             ],
             [
              1,
              "#f0f921"
             ]
            ],
            "type": "histogram2d"
           }
          ],
          "histogram2dcontour": [
           {
            "colorbar": {
             "outlinewidth": 0,
             "ticks": ""
            },
            "colorscale": [
             [
              0,
              "#0d0887"
             ],
             [
              0.1111111111111111,
              "#46039f"
             ],
             [
              0.2222222222222222,
              "#7201a8"
             ],
             [
              0.3333333333333333,
              "#9c179e"
             ],
             [
              0.4444444444444444,
              "#bd3786"
             ],
             [
              0.5555555555555556,
              "#d8576b"
             ],
             [
              0.6666666666666666,
              "#ed7953"
             ],
             [
              0.7777777777777778,
              "#fb9f3a"
             ],
             [
              0.8888888888888888,
              "#fdca26"
             ],
             [
              1,
              "#f0f921"
             ]
            ],
            "type": "histogram2dcontour"
           }
          ],
          "mesh3d": [
           {
            "colorbar": {
             "outlinewidth": 0,
             "ticks": ""
            },
            "type": "mesh3d"
           }
          ],
          "parcoords": [
           {
            "line": {
             "colorbar": {
              "outlinewidth": 0,
              "ticks": ""
             }
            },
            "type": "parcoords"
           }
          ],
          "pie": [
           {
            "automargin": true,
            "type": "pie"
           }
          ],
          "scatter": [
           {
            "fillpattern": {
             "fillmode": "overlay",
             "size": 10,
             "solidity": 0.2
            },
            "type": "scatter"
           }
          ],
          "scatter3d": [
           {
            "line": {
             "colorbar": {
              "outlinewidth": 0,
              "ticks": ""
             }
            },
            "marker": {
             "colorbar": {
              "outlinewidth": 0,
              "ticks": ""
             }
            },
            "type": "scatter3d"
           }
          ],
          "scattercarpet": [
           {
            "marker": {
             "colorbar": {
              "outlinewidth": 0,
              "ticks": ""
             }
            },
            "type": "scattercarpet"
           }
          ],
          "scattergeo": [
           {
            "marker": {
             "colorbar": {
              "outlinewidth": 0,
              "ticks": ""
             }
            },
            "type": "scattergeo"
           }
          ],
          "scattergl": [
           {
            "marker": {
             "colorbar": {
              "outlinewidth": 0,
              "ticks": ""
             }
            },
            "type": "scattergl"
           }
          ],
          "scattermapbox": [
           {
            "marker": {
             "colorbar": {
              "outlinewidth": 0,
              "ticks": ""
             }
            },
            "type": "scattermapbox"
           }
          ],
          "scatterpolar": [
           {
            "marker": {
             "colorbar": {
              "outlinewidth": 0,
              "ticks": ""
             }
            },
            "type": "scatterpolar"
           }
          ],
          "scatterpolargl": [
           {
            "marker": {
             "colorbar": {
              "outlinewidth": 0,
              "ticks": ""
             }
            },
            "type": "scatterpolargl"
           }
          ],
          "scatterternary": [
           {
            "marker": {
             "colorbar": {
              "outlinewidth": 0,
              "ticks": ""
             }
            },
            "type": "scatterternary"
           }
          ],
          "surface": [
           {
            "colorbar": {
             "outlinewidth": 0,
             "ticks": ""
            },
            "colorscale": [
             [
              0,
              "#0d0887"
             ],
             [
              0.1111111111111111,
              "#46039f"
             ],
             [
              0.2222222222222222,
              "#7201a8"
             ],
             [
              0.3333333333333333,
              "#9c179e"
             ],
             [
              0.4444444444444444,
              "#bd3786"
             ],
             [
              0.5555555555555556,
              "#d8576b"
             ],
             [
              0.6666666666666666,
              "#ed7953"
             ],
             [
              0.7777777777777778,
              "#fb9f3a"
             ],
             [
              0.8888888888888888,
              "#fdca26"
             ],
             [
              1,
              "#f0f921"
             ]
            ],
            "type": "surface"
           }
          ],
          "table": [
           {
            "cells": {
             "fill": {
              "color": "#EBF0F8"
             },
             "line": {
              "color": "white"
             }
            },
            "header": {
             "fill": {
              "color": "#C8D4E3"
             },
             "line": {
              "color": "white"
             }
            },
            "type": "table"
           }
          ]
         },
         "layout": {
          "annotationdefaults": {
           "arrowcolor": "#2a3f5f",
           "arrowhead": 0,
           "arrowwidth": 1
          },
          "autotypenumbers": "strict",
          "coloraxis": {
           "colorbar": {
            "outlinewidth": 0,
            "ticks": ""
           }
          },
          "colorscale": {
           "diverging": [
            [
             0,
             "#8e0152"
            ],
            [
             0.1,
             "#c51b7d"
            ],
            [
             0.2,
             "#de77ae"
            ],
            [
             0.3,
             "#f1b6da"
            ],
            [
             0.4,
             "#fde0ef"
            ],
            [
             0.5,
             "#f7f7f7"
            ],
            [
             0.6,
             "#e6f5d0"
            ],
            [
             0.7,
             "#b8e186"
            ],
            [
             0.8,
             "#7fbc41"
            ],
            [
             0.9,
             "#4d9221"
            ],
            [
             1,
             "#276419"
            ]
           ],
           "sequential": [
            [
             0,
             "#0d0887"
            ],
            [
             0.1111111111111111,
             "#46039f"
            ],
            [
             0.2222222222222222,
             "#7201a8"
            ],
            [
             0.3333333333333333,
             "#9c179e"
            ],
            [
             0.4444444444444444,
             "#bd3786"
            ],
            [
             0.5555555555555556,
             "#d8576b"
            ],
            [
             0.6666666666666666,
             "#ed7953"
            ],
            [
             0.7777777777777778,
             "#fb9f3a"
            ],
            [
             0.8888888888888888,
             "#fdca26"
            ],
            [
             1,
             "#f0f921"
            ]
           ],
           "sequentialminus": [
            [
             0,
             "#0d0887"
            ],
            [
             0.1111111111111111,
             "#46039f"
            ],
            [
             0.2222222222222222,
             "#7201a8"
            ],
            [
             0.3333333333333333,
             "#9c179e"
            ],
            [
             0.4444444444444444,
             "#bd3786"
            ],
            [
             0.5555555555555556,
             "#d8576b"
            ],
            [
             0.6666666666666666,
             "#ed7953"
            ],
            [
             0.7777777777777778,
             "#fb9f3a"
            ],
            [
             0.8888888888888888,
             "#fdca26"
            ],
            [
             1,
             "#f0f921"
            ]
           ]
          },
          "colorway": [
           "#636efa",
           "#EF553B",
           "#00cc96",
           "#ab63fa",
           "#FFA15A",
           "#19d3f3",
           "#FF6692",
           "#B6E880",
           "#FF97FF",
           "#FECB52"
          ],
          "font": {
           "color": "#2a3f5f"
          },
          "geo": {
           "bgcolor": "white",
           "lakecolor": "white",
           "landcolor": "#E5ECF6",
           "showlakes": true,
           "showland": true,
           "subunitcolor": "white"
          },
          "hoverlabel": {
           "align": "left"
          },
          "hovermode": "closest",
          "mapbox": {
           "style": "light"
          },
          "paper_bgcolor": "white",
          "plot_bgcolor": "#E5ECF6",
          "polar": {
           "angularaxis": {
            "gridcolor": "white",
            "linecolor": "white",
            "ticks": ""
           },
           "bgcolor": "#E5ECF6",
           "radialaxis": {
            "gridcolor": "white",
            "linecolor": "white",
            "ticks": ""
           }
          },
          "scene": {
           "xaxis": {
            "backgroundcolor": "#E5ECF6",
            "gridcolor": "white",
            "gridwidth": 2,
            "linecolor": "white",
            "showbackground": true,
            "ticks": "",
            "zerolinecolor": "white"
           },
           "yaxis": {
            "backgroundcolor": "#E5ECF6",
            "gridcolor": "white",
            "gridwidth": 2,
            "linecolor": "white",
            "showbackground": true,
            "ticks": "",
            "zerolinecolor": "white"
           },
           "zaxis": {
            "backgroundcolor": "#E5ECF6",
            "gridcolor": "white",
            "gridwidth": 2,
            "linecolor": "white",
            "showbackground": true,
            "ticks": "",
            "zerolinecolor": "white"
           }
          },
          "shapedefaults": {
           "line": {
            "color": "#2a3f5f"
           }
          },
          "ternary": {
           "aaxis": {
            "gridcolor": "white",
            "linecolor": "white",
            "ticks": ""
           },
           "baxis": {
            "gridcolor": "white",
            "linecolor": "white",
            "ticks": ""
           },
           "bgcolor": "#E5ECF6",
           "caxis": {
            "gridcolor": "white",
            "linecolor": "white",
            "ticks": ""
           }
          },
          "title": {
           "x": 0.05
          },
          "xaxis": {
           "automargin": true,
           "gridcolor": "white",
           "linecolor": "white",
           "ticks": "",
           "title": {
            "standoff": 15
           },
           "zerolinecolor": "white",
           "zerolinewidth": 2
          },
          "yaxis": {
           "automargin": true,
           "gridcolor": "white",
           "linecolor": "white",
           "ticks": "",
           "title": {
            "standoff": 15
           },
           "zerolinecolor": "white",
           "zerolinewidth": 2
          }
         }
        },
        "title": {
         "text": "진출 확률"
        },
        "xaxis": {
         "dtick": 1,
         "fixedrange": true,
         "range": [
          0,
          2
         ],
         "title": {
          "text": "게임 수"
         }
        },
        "yaxis": {
         "fixedrange": true,
         "range": [
          0,
          1
         ],
         "tickformat": ",.3%"
        }
       }
      }
     },
     "metadata": {},
     "output_type": "display_data"
    }
   ],
   "source": [
    "wc_fig.add_traces([\n",
    "    # 두산 정사\n",
    "    go.Scatter(\n",
    "        name = '두산', \n",
    "        x = [0, 1, 2],\n",
    "        y = ds_win,\n",
    "        text = ['1승 0패', '1승 1패', '1승 2패'],\n",
    "        mode = 'lines', line = {'color': team_color['두산'][0], 'width' : 3, 'dash': 'solid'}, marker = {'color': team_color['두산'][1], 'size': 3},\n",
    "        legendgroup = '두산',\n",
    "        visible = 'legendonly'\n",
    "    ),\n",
    "    # kt 정사\n",
    "    go.Scatter(\n",
    "        name = 'kt', \n",
    "        x = [0, 1, 2],\n",
    "        y = kt_win,\n",
    "        text = ['0승 1패', '1승 1패', '2승 1패'],\n",
    "        mode = 'lines', line = {'color': team_color['KT'][0], 'width' : 3, 'dash': 'solid'}, marker = {'color': team_color['KT'][1], 'size': 3},\n",
    "        legendgroup = 'kt'\n",
    "    ),\n",
    "    # 두산 1차전 승\n",
    "    go.Scatter(\n",
    "        x = [0, 1],\n",
    "        y = [ds_win[0], 1.0],\n",
    "        mode = 'lines', line = {'color': team_color['두산'][0], 'width' : 3, 'dash': 'dash'}, marker = {'color': team_color['두산'][1], 'size': 3},\n",
    "        legendgroup = '두산',\n",
    "        hoverinfo='skip',\n",
    "        showlegend= False,\n",
    "        visible = 'legendonly'\n",
    "    ),\n",
    "    # 두산 2차전 승\n",
    "    go.Scatter(\n",
    "        x = [1, 2],\n",
    "        y = [ds_win[1], 1.0],\n",
    "        mode = 'lines', line = {'color': team_color['두산'][0], 'width' : 3, 'dash': 'dash'}, marker = {'color': team_color['두산'][1], 'size': 3},\n",
    "        legendgroup = '두산',\n",
    "        hoverinfo='skip',\n",
    "        showlegend= False,\n",
    "        visible = 'legendonly'\n",
    "    ),\n",
    "    # kt 1차전 패\n",
    "    go.Scatter(\n",
    "        name = 'kt', \n",
    "        x = [0, 1],\n",
    "        y = [kt_win[0], 0.0],\n",
    "        mode = 'lines', line = {'color': team_color['KT'][0], 'width' : 3, 'dash': 'dash'}, marker = {'color': team_color['KT'][1], 'size': 3},\n",
    "        legendgroup = 'kt',\n",
    "        hoverinfo='skip',\n",
    "        showlegend= False\n",
    "    ),\n",
    "    # kt 2차전 패\n",
    "    go.Scatter(\n",
    "        name = 'kt', \n",
    "        x = [1, 2],\n",
    "        y = [kt_win[1], 0.0],\n",
    "        mode = 'lines', line = {'color': team_color['KT'][0], 'width' : 3, 'dash': 'dash'}, marker = {'color': team_color['KT'][1], 'size': 3},\n",
    "        legendgroup = 'kt',\n",
    "        hoverinfo='skip',\n",
    "        showlegend= False\n",
    "    )\n",
    "])"
   ]
  },
  {
   "cell_type": "code",
   "execution_count": 13,
   "metadata": {},
   "outputs": [],
   "source": [
    "lg_gamewin = log5(0.535, 0.507)\n",
    "lg_win = [sum([b for a, b in postseason_ratio(3, lg_gamewin, x, y).items() if a[0] == 3]) \n",
    "    for x, y in [(0,0), (0,1), (1,1), (2,1), (2,2)]]\n",
    "kt_win = list(map(lambda x: 1 - x, lg_win))"
   ]
  },
  {
   "cell_type": "code",
   "execution_count": 14,
   "metadata": {},
   "outputs": [
    {
     "data": {
      "text/plain": [
       "[0.5524415209122294,\n",
       " 0.3556736241838279,\n",
       " 0.5419971670452026,\n",
       " 0.7772419280157633,\n",
       " 0.5280274669175793]"
      ]
     },
     "execution_count": 14,
     "metadata": {},
     "output_type": "execute_result"
    }
   ],
   "source": [
    "lg_win"
   ]
  },
  {
   "cell_type": "code",
   "execution_count": 17,
   "metadata": {},
   "outputs": [
    {
     "data": {
      "application/vnd.plotly.v1+json": {
       "config": {
        "plotlyServerURL": "https://plot.ly"
       },
       "data": [
        {
         "legendgroup": "LG",
         "line": {
          "color": "#C30452",
          "dash": "solid",
          "width": 3
         },
         "marker": {
          "color": "#000000",
          "size": 3
         },
         "mode": "lines",
         "name": "LG",
         "text": [
          "0승 0패",
          "0승 1패",
          "1승 1패"
         ],
         "type": "scatter",
         "x": [
          0,
          1,
          2,
          3,
          4
         ],
         "y": [
          0.5524415209122294,
          0.3556736241838279,
          0.5419971670452026,
          0.7772419280157633,
          0.5280274669175793
         ]
        },
        {
         "legendgroup": "kt",
         "line": {
          "color": "#000000",
          "dash": "solid",
          "width": 3
         },
         "marker": {
          "color": "#EB1C24",
          "size": 3
         },
         "mode": "lines",
         "name": "kt",
         "text": [
          "0승 0패",
          "1승 0패",
          "1승 1패"
         ],
         "type": "scatter",
         "visible": "legendonly",
         "x": [
          0,
          1,
          2,
          3,
          4
         ],
         "y": [
          0.4475584790877706,
          0.6443263758161721,
          0.4580028329547974,
          0.2227580719842367,
          0.4719725330824207
         ]
        },
        {
         "hoverinfo": "skip",
         "legendgroup": "LG",
         "line": {
          "color": "#C30452",
          "dash": "dash",
          "width": 3
         },
         "marker": {
          "color": "#000000",
          "size": 3
         },
         "mode": "lines",
         "showlegend": false,
         "type": "scatter",
         "x": [
          0,
          1
         ],
         "y": [
          0.5524415209122294,
          0.7283207099065775
         ]
        },
        {
         "hoverinfo": "skip",
         "legendgroup": "LG",
         "line": {
          "color": "#C30452",
          "dash": "dash",
          "width": 3
         },
         "marker": {
          "color": "#000000",
          "size": 3
         },
         "mode": "lines",
         "showlegend": false,
         "type": "scatter",
         "x": [
          1,
          2
         ],
         "y": [
          0.3556736241838279,
          0.1472209252064916
         ]
        },
        {
         "hoverinfo": "skip",
         "legendgroup": "LG",
         "line": {
          "color": "#C30452",
          "dash": "dash",
          "width": 3
         },
         "marker": {
          "color": "#000000",
          "size": 3
         },
         "mode": "lines",
         "showlegend": false,
         "type": "scatter",
         "x": [
          2,
          3
         ],
         "y": [
          0.5419971670452026,
          0.2788130058193953
         ]
        },
        {
         "hoverinfo": "skip",
         "legendgroup": "LG",
         "line": {
          "color": "#C30452",
          "dash": "dash",
          "width": 3
         },
         "marker": {
          "color": "#000000",
          "size": 3
         },
         "mode": "lines",
         "showlegend": false,
         "type": "scatter",
         "x": [
          3,
          4
         ],
         "y": [
          0.7772419280157633,
          1
         ]
        },
        {
         "hoverinfo": "skip",
         "legendgroup": "LG",
         "line": {
          "color": "#C30452",
          "dash": "dash",
          "width": 3
         },
         "marker": {
          "color": "#000000",
          "size": 3
         },
         "mode": "lines",
         "showlegend": false,
         "type": "scatter",
         "x": [
          4,
          5
         ],
         "y": [
          0.5280274669175793,
          1
         ]
        },
        {
         "hoverinfo": "skip",
         "legendgroup": "LG",
         "line": {
          "color": "#C30452",
          "dash": "dash",
          "width": 3
         },
         "marker": {
          "color": "#000000",
          "size": 3
         },
         "mode": "lines",
         "showlegend": false,
         "type": "scatter",
         "x": [
          4,
          5
         ],
         "y": [
          0.5280274669175793,
          0
         ]
        },
        {
         "hoverinfo": "skip",
         "legendgroup": "kt",
         "line": {
          "color": "#000000",
          "dash": "dash",
          "width": 3
         },
         "marker": {
          "color": "#EB1C24",
          "size": 3
         },
         "mode": "lines",
         "name": "kt",
         "showlegend": false,
         "type": "scatter",
         "visible": "legendonly",
         "x": [
          0,
          1
         ],
         "y": [
          0.4475584790877706,
          0.2716792900934225
         ]
        },
        {
         "hoverinfo": "skip",
         "legendgroup": "kt",
         "line": {
          "color": "#000000",
          "dash": "dash",
          "width": 3
         },
         "marker": {
          "color": "#EB1C24",
          "size": 3
         },
         "mode": "lines",
         "name": "kt",
         "showlegend": false,
         "type": "scatter",
         "visible": "legendonly",
         "x": [
          1,
          2
         ],
         "y": [
          0.6443263758161721,
          0.8527790747935085
         ]
        },
        {
         "hoverinfo": "skip",
         "legendgroup": "kt",
         "line": {
          "color": "#000000",
          "dash": "dash",
          "width": 3
         },
         "marker": {
          "color": "#EB1C24",
          "size": 3
         },
         "mode": "lines",
         "name": "kt",
         "showlegend": false,
         "type": "scatter",
         "visible": "legendonly",
         "x": [
          2,
          3
         ],
         "y": [
          0.4580028329547974,
          0.7211869941806047
         ]
        },
        {
         "hoverinfo": "skip",
         "legendgroup": "kt",
         "line": {
          "color": "#000000",
          "dash": "dash",
          "width": 3
         },
         "marker": {
          "color": "#EB1C24",
          "size": 3
         },
         "mode": "lines",
         "name": "kt",
         "showlegend": false,
         "type": "scatter",
         "visible": "legendonly",
         "x": [
          3,
          4
         ],
         "y": [
          0.2227580719842367,
          0
         ]
        },
        {
         "hoverinfo": "skip",
         "legendgroup": "kt",
         "line": {
          "color": "#000000",
          "dash": "dash",
          "width": 3
         },
         "marker": {
          "color": "#EB1C24",
          "size": 3
         },
         "mode": "lines",
         "name": "kt",
         "showlegend": false,
         "type": "scatter",
         "visible": "legendonly",
         "x": [
          4,
          5
         ],
         "y": [
          0.4719725330824207,
          1
         ]
        },
        {
         "hoverinfo": "skip",
         "legendgroup": "kt",
         "line": {
          "color": "#000000",
          "dash": "dash",
          "width": 3
         },
         "marker": {
          "color": "#EB1C24",
          "size": 3
         },
         "mode": "lines",
         "name": "kt",
         "showlegend": false,
         "type": "scatter",
         "visible": "legendonly",
         "x": [
          4,
          5
         ],
         "y": [
          0.4719725330824207,
          0
         ]
        }
       ],
       "layout": {
        "hovermode": "x",
        "margin": {
         "b": 10,
         "l": 10,
         "r": 10,
         "t": 50
        },
        "paper_bgcolor": "#DFDFDF",
        "plot_bgcolor": "#D9F2D0",
        "template": {
         "data": {
          "bar": [
           {
            "error_x": {
             "color": "#2a3f5f"
            },
            "error_y": {
             "color": "#2a3f5f"
            },
            "marker": {
             "line": {
              "color": "#E5ECF6",
              "width": 0.5
             },
             "pattern": {
              "fillmode": "overlay",
              "size": 10,
              "solidity": 0.2
             }
            },
            "type": "bar"
           }
          ],
          "barpolar": [
           {
            "marker": {
             "line": {
              "color": "#E5ECF6",
              "width": 0.5
             },
             "pattern": {
              "fillmode": "overlay",
              "size": 10,
              "solidity": 0.2
             }
            },
            "type": "barpolar"
           }
          ],
          "carpet": [
           {
            "aaxis": {
             "endlinecolor": "#2a3f5f",
             "gridcolor": "white",
             "linecolor": "white",
             "minorgridcolor": "white",
             "startlinecolor": "#2a3f5f"
            },
            "baxis": {
             "endlinecolor": "#2a3f5f",
             "gridcolor": "white",
             "linecolor": "white",
             "minorgridcolor": "white",
             "startlinecolor": "#2a3f5f"
            },
            "type": "carpet"
           }
          ],
          "choropleth": [
           {
            "colorbar": {
             "outlinewidth": 0,
             "ticks": ""
            },
            "type": "choropleth"
           }
          ],
          "contour": [
           {
            "colorbar": {
             "outlinewidth": 0,
             "ticks": ""
            },
            "colorscale": [
             [
              0,
              "#0d0887"
             ],
             [
              0.1111111111111111,
              "#46039f"
             ],
             [
              0.2222222222222222,
              "#7201a8"
             ],
             [
              0.3333333333333333,
              "#9c179e"
             ],
             [
              0.4444444444444444,
              "#bd3786"
             ],
             [
              0.5555555555555556,
              "#d8576b"
             ],
             [
              0.6666666666666666,
              "#ed7953"
             ],
             [
              0.7777777777777778,
              "#fb9f3a"
             ],
             [
              0.8888888888888888,
              "#fdca26"
             ],
             [
              1,
              "#f0f921"
             ]
            ],
            "type": "contour"
           }
          ],
          "contourcarpet": [
           {
            "colorbar": {
             "outlinewidth": 0,
             "ticks": ""
            },
            "type": "contourcarpet"
           }
          ],
          "heatmap": [
           {
            "colorbar": {
             "outlinewidth": 0,
             "ticks": ""
            },
            "colorscale": [
             [
              0,
              "#0d0887"
             ],
             [
              0.1111111111111111,
              "#46039f"
             ],
             [
              0.2222222222222222,
              "#7201a8"
             ],
             [
              0.3333333333333333,
              "#9c179e"
             ],
             [
              0.4444444444444444,
              "#bd3786"
             ],
             [
              0.5555555555555556,
              "#d8576b"
             ],
             [
              0.6666666666666666,
              "#ed7953"
             ],
             [
              0.7777777777777778,
              "#fb9f3a"
             ],
             [
              0.8888888888888888,
              "#fdca26"
             ],
             [
              1,
              "#f0f921"
             ]
            ],
            "type": "heatmap"
           }
          ],
          "heatmapgl": [
           {
            "colorbar": {
             "outlinewidth": 0,
             "ticks": ""
            },
            "colorscale": [
             [
              0,
              "#0d0887"
             ],
             [
              0.1111111111111111,
              "#46039f"
             ],
             [
              0.2222222222222222,
              "#7201a8"
             ],
             [
              0.3333333333333333,
              "#9c179e"
             ],
             [
              0.4444444444444444,
              "#bd3786"
             ],
             [
              0.5555555555555556,
              "#d8576b"
             ],
             [
              0.6666666666666666,
              "#ed7953"
             ],
             [
              0.7777777777777778,
              "#fb9f3a"
             ],
             [
              0.8888888888888888,
              "#fdca26"
             ],
             [
              1,
              "#f0f921"
             ]
            ],
            "type": "heatmapgl"
           }
          ],
          "histogram": [
           {
            "marker": {
             "pattern": {
              "fillmode": "overlay",
              "size": 10,
              "solidity": 0.2
             }
            },
            "type": "histogram"
           }
          ],
          "histogram2d": [
           {
            "colorbar": {
             "outlinewidth": 0,
             "ticks": ""
            },
            "colorscale": [
             [
              0,
              "#0d0887"
             ],
             [
              0.1111111111111111,
              "#46039f"
             ],
             [
              0.2222222222222222,
              "#7201a8"
             ],
             [
              0.3333333333333333,
              "#9c179e"
             ],
             [
              0.4444444444444444,
              "#bd3786"
             ],
             [
              0.5555555555555556,
              "#d8576b"
             ],
             [
              0.6666666666666666,
              "#ed7953"
             ],
             [
              0.7777777777777778,
              "#fb9f3a"
             ],
             [
              0.8888888888888888,
              "#fdca26"
             ],
             [
              1,
              "#f0f921"
             ]
            ],
            "type": "histogram2d"
           }
          ],
          "histogram2dcontour": [
           {
            "colorbar": {
             "outlinewidth": 0,
             "ticks": ""
            },
            "colorscale": [
             [
              0,
              "#0d0887"
             ],
             [
              0.1111111111111111,
              "#46039f"
             ],
             [
              0.2222222222222222,
              "#7201a8"
             ],
             [
              0.3333333333333333,
              "#9c179e"
             ],
             [
              0.4444444444444444,
              "#bd3786"
             ],
             [
              0.5555555555555556,
              "#d8576b"
             ],
             [
              0.6666666666666666,
              "#ed7953"
             ],
             [
              0.7777777777777778,
              "#fb9f3a"
             ],
             [
              0.8888888888888888,
              "#fdca26"
             ],
             [
              1,
              "#f0f921"
             ]
            ],
            "type": "histogram2dcontour"
           }
          ],
          "mesh3d": [
           {
            "colorbar": {
             "outlinewidth": 0,
             "ticks": ""
            },
            "type": "mesh3d"
           }
          ],
          "parcoords": [
           {
            "line": {
             "colorbar": {
              "outlinewidth": 0,
              "ticks": ""
             }
            },
            "type": "parcoords"
           }
          ],
          "pie": [
           {
            "automargin": true,
            "type": "pie"
           }
          ],
          "scatter": [
           {
            "fillpattern": {
             "fillmode": "overlay",
             "size": 10,
             "solidity": 0.2
            },
            "type": "scatter"
           }
          ],
          "scatter3d": [
           {
            "line": {
             "colorbar": {
              "outlinewidth": 0,
              "ticks": ""
             }
            },
            "marker": {
             "colorbar": {
              "outlinewidth": 0,
              "ticks": ""
             }
            },
            "type": "scatter3d"
           }
          ],
          "scattercarpet": [
           {
            "marker": {
             "colorbar": {
              "outlinewidth": 0,
              "ticks": ""
             }
            },
            "type": "scattercarpet"
           }
          ],
          "scattergeo": [
           {
            "marker": {
             "colorbar": {
              "outlinewidth": 0,
              "ticks": ""
             }
            },
            "type": "scattergeo"
           }
          ],
          "scattergl": [
           {
            "marker": {
             "colorbar": {
              "outlinewidth": 0,
              "ticks": ""
             }
            },
            "type": "scattergl"
           }
          ],
          "scattermapbox": [
           {
            "marker": {
             "colorbar": {
              "outlinewidth": 0,
              "ticks": ""
             }
            },
            "type": "scattermapbox"
           }
          ],
          "scatterpolar": [
           {
            "marker": {
             "colorbar": {
              "outlinewidth": 0,
              "ticks": ""
             }
            },
            "type": "scatterpolar"
           }
          ],
          "scatterpolargl": [
           {
            "marker": {
             "colorbar": {
              "outlinewidth": 0,
              "ticks": ""
             }
            },
            "type": "scatterpolargl"
           }
          ],
          "scatterternary": [
           {
            "marker": {
             "colorbar": {
              "outlinewidth": 0,
              "ticks": ""
             }
            },
            "type": "scatterternary"
           }
          ],
          "surface": [
           {
            "colorbar": {
             "outlinewidth": 0,
             "ticks": ""
            },
            "colorscale": [
             [
              0,
              "#0d0887"
             ],
             [
              0.1111111111111111,
              "#46039f"
             ],
             [
              0.2222222222222222,
              "#7201a8"
             ],
             [
              0.3333333333333333,
              "#9c179e"
             ],
             [
              0.4444444444444444,
              "#bd3786"
             ],
             [
              0.5555555555555556,
              "#d8576b"
             ],
             [
              0.6666666666666666,
              "#ed7953"
             ],
             [
              0.7777777777777778,
              "#fb9f3a"
             ],
             [
              0.8888888888888888,
              "#fdca26"
             ],
             [
              1,
              "#f0f921"
             ]
            ],
            "type": "surface"
           }
          ],
          "table": [
           {
            "cells": {
             "fill": {
              "color": "#EBF0F8"
             },
             "line": {
              "color": "white"
             }
            },
            "header": {
             "fill": {
              "color": "#C8D4E3"
             },
             "line": {
              "color": "white"
             }
            },
            "type": "table"
           }
          ]
         },
         "layout": {
          "annotationdefaults": {
           "arrowcolor": "#2a3f5f",
           "arrowhead": 0,
           "arrowwidth": 1
          },
          "autotypenumbers": "strict",
          "coloraxis": {
           "colorbar": {
            "outlinewidth": 0,
            "ticks": ""
           }
          },
          "colorscale": {
           "diverging": [
            [
             0,
             "#8e0152"
            ],
            [
             0.1,
             "#c51b7d"
            ],
            [
             0.2,
             "#de77ae"
            ],
            [
             0.3,
             "#f1b6da"
            ],
            [
             0.4,
             "#fde0ef"
            ],
            [
             0.5,
             "#f7f7f7"
            ],
            [
             0.6,
             "#e6f5d0"
            ],
            [
             0.7,
             "#b8e186"
            ],
            [
             0.8,
             "#7fbc41"
            ],
            [
             0.9,
             "#4d9221"
            ],
            [
             1,
             "#276419"
            ]
           ],
           "sequential": [
            [
             0,
             "#0d0887"
            ],
            [
             0.1111111111111111,
             "#46039f"
            ],
            [
             0.2222222222222222,
             "#7201a8"
            ],
            [
             0.3333333333333333,
             "#9c179e"
            ],
            [
             0.4444444444444444,
             "#bd3786"
            ],
            [
             0.5555555555555556,
             "#d8576b"
            ],
            [
             0.6666666666666666,
             "#ed7953"
            ],
            [
             0.7777777777777778,
             "#fb9f3a"
            ],
            [
             0.8888888888888888,
             "#fdca26"
            ],
            [
             1,
             "#f0f921"
            ]
           ],
           "sequentialminus": [
            [
             0,
             "#0d0887"
            ],
            [
             0.1111111111111111,
             "#46039f"
            ],
            [
             0.2222222222222222,
             "#7201a8"
            ],
            [
             0.3333333333333333,
             "#9c179e"
            ],
            [
             0.4444444444444444,
             "#bd3786"
            ],
            [
             0.5555555555555556,
             "#d8576b"
            ],
            [
             0.6666666666666666,
             "#ed7953"
            ],
            [
             0.7777777777777778,
             "#fb9f3a"
            ],
            [
             0.8888888888888888,
             "#fdca26"
            ],
            [
             1,
             "#f0f921"
            ]
           ]
          },
          "colorway": [
           "#636efa",
           "#EF553B",
           "#00cc96",
           "#ab63fa",
           "#FFA15A",
           "#19d3f3",
           "#FF6692",
           "#B6E880",
           "#FF97FF",
           "#FECB52"
          ],
          "font": {
           "color": "#2a3f5f"
          },
          "geo": {
           "bgcolor": "white",
           "lakecolor": "white",
           "landcolor": "#E5ECF6",
           "showlakes": true,
           "showland": true,
           "subunitcolor": "white"
          },
          "hoverlabel": {
           "align": "left"
          },
          "hovermode": "closest",
          "mapbox": {
           "style": "light"
          },
          "paper_bgcolor": "white",
          "plot_bgcolor": "#E5ECF6",
          "polar": {
           "angularaxis": {
            "gridcolor": "white",
            "linecolor": "white",
            "ticks": ""
           },
           "bgcolor": "#E5ECF6",
           "radialaxis": {
            "gridcolor": "white",
            "linecolor": "white",
            "ticks": ""
           }
          },
          "scene": {
           "xaxis": {
            "backgroundcolor": "#E5ECF6",
            "gridcolor": "white",
            "gridwidth": 2,
            "linecolor": "white",
            "showbackground": true,
            "ticks": "",
            "zerolinecolor": "white"
           },
           "yaxis": {
            "backgroundcolor": "#E5ECF6",
            "gridcolor": "white",
            "gridwidth": 2,
            "linecolor": "white",
            "showbackground": true,
            "ticks": "",
            "zerolinecolor": "white"
           },
           "zaxis": {
            "backgroundcolor": "#E5ECF6",
            "gridcolor": "white",
            "gridwidth": 2,
            "linecolor": "white",
            "showbackground": true,
            "ticks": "",
            "zerolinecolor": "white"
           }
          },
          "shapedefaults": {
           "line": {
            "color": "#2a3f5f"
           }
          },
          "ternary": {
           "aaxis": {
            "gridcolor": "white",
            "linecolor": "white",
            "ticks": ""
           },
           "baxis": {
            "gridcolor": "white",
            "linecolor": "white",
            "ticks": ""
           },
           "bgcolor": "#E5ECF6",
           "caxis": {
            "gridcolor": "white",
            "linecolor": "white",
            "ticks": ""
           }
          },
          "title": {
           "x": 0.05
          },
          "xaxis": {
           "automargin": true,
           "gridcolor": "white",
           "linecolor": "white",
           "ticks": "",
           "title": {
            "standoff": 15
           },
           "zerolinecolor": "white",
           "zerolinewidth": 2
          },
          "yaxis": {
           "automargin": true,
           "gridcolor": "white",
           "linecolor": "white",
           "ticks": "",
           "title": {
            "standoff": 15
           },
           "zerolinecolor": "white",
           "zerolinewidth": 2
          }
         }
        },
        "title": {
         "text": "진출 확률"
        },
        "xaxis": {
         "dtick": 1,
         "fixedrange": true,
         "range": [
          0,
          5
         ],
         "title": {
          "text": "게임 수"
         }
        },
        "yaxis": {
         "fixedrange": true,
         "range": [
          0,
          1
         ],
         "tickformat": ",.3%"
        }
       }
      }
     },
     "metadata": {},
     "output_type": "display_data"
    }
   ],
   "source": [
    "spo_fig.add_traces([\n",
    "    # LG 정사\n",
    "    go.Scatter(\n",
    "        name = 'LG', \n",
    "        x = [0, 1, 2, 3, 4],\n",
    "        y = lg_win,\n",
    "        text = ['0승 0패', '0승 1패', '1승 1패', '2승 1패', '2승 2패'],\n",
    "        mode = 'lines', line = {'color': team_color['LG'][0], 'width' : 3, 'dash': 'solid'}, marker = {'color': team_color['LG'][1], 'size': 3},\n",
    "        legendgroup = 'LG'\n",
    "    ),\n",
    "    # kt 정사\n",
    "    go.Scatter(\n",
    "        name = 'kt', \n",
    "        x = [0, 1, 2, 3, 4],\n",
    "        y = kt_win,\n",
    "        text = ['0승 0패', '0승 1패', '1승 1패', '1승 2패', '2승 2패'],\n",
    "        mode = 'lines', line = {'color': team_color['KT'][0], 'width' : 3, 'dash': 'solid'}, marker = {'color': team_color['KT'][1], 'size': 3},\n",
    "        legendgroup = 'kt',\n",
    "        visible = 'legendonly'\n",
    "    ),\n",
    "    # LG 1차전 승\n",
    "    go.Scatter(\n",
    "        x = [0, 1],\n",
    "        y = [lg_win[0], sum([y for x, y in postseason_ratio(3, lg_gamewin, 1, 0).items() if x[0] == 3])],\n",
    "        mode = 'lines', line = {'color': team_color['LG'][0], 'width' : 3, 'dash': 'dash'}, marker = {'color': team_color['LG'][1], 'size': 3},\n",
    "        legendgroup = 'LG',\n",
    "        hoverinfo='skip',\n",
    "        showlegend= False\n",
    "    ),\n",
    "    # LG 2차전 패\n",
    "    go.Scatter(\n",
    "        x = [1, 2],\n",
    "        y = [lg_win[1], sum([y for x, y in postseason_ratio(3, lg_gamewin, 0, 2).items() if x[0] == 3])],\n",
    "        mode = 'lines', line = {'color': team_color['LG'][0], 'width' : 3, 'dash': 'dash'}, marker = {'color': team_color['LG'][1], 'size': 3},\n",
    "        legendgroup = 'LG',\n",
    "        hoverinfo='skip',\n",
    "        showlegend= False\n",
    "    ),\n",
    "    # LG 3차전 패\n",
    "    go.Scatter(\n",
    "        x = [2, 3],\n",
    "        y = [lg_win[2], sum([y for x, y in postseason_ratio(3, lg_gamewin, 1, 2).items() if x[0] == 3])],\n",
    "        mode = 'lines', line = {'color': team_color['LG'][0], 'width' : 3, 'dash': 'dash'}, marker = {'color': team_color['LG'][1], 'size': 3},\n",
    "        legendgroup = 'LG',\n",
    "        hoverinfo='skip',\n",
    "        showlegend= False\n",
    "    ),\n",
    "    # LG 4차전 승\n",
    "    go.Scatter(\n",
    "        x = [3, 4],\n",
    "        y = [lg_win[3], 1.0],\n",
    "        mode = 'lines', line = {'color': team_color['LG'][0], 'width' : 3, 'dash': 'dash'}, marker = {'color': team_color['LG'][1], 'size': 3},\n",
    "        legendgroup = 'LG',\n",
    "        hoverinfo='skip',\n",
    "        showlegend= False\n",
    "    ),\n",
    "    #LG 미래시\n",
    "    go.Scatter(\n",
    "        x = [4, 5],\n",
    "        y = [lg_win[-1], 1.0],\n",
    "        mode = 'lines', line = {'color': team_color['LG'][0], 'width' : 3, 'dash': 'dash'}, marker = {'color': team_color['LG'][1], 'size': 3},\n",
    "        legendgroup = 'LG',\n",
    "        hoverinfo='skip',\n",
    "        showlegend= False\n",
    "    ),\n",
    "    go.Scatter(\n",
    "        x = [4, 5],\n",
    "        y = [lg_win[-1], 0.0],\n",
    "        mode = 'lines', line = {'color': team_color['LG'][0], 'width' : 3, 'dash': 'dash'}, marker = {'color': team_color['LG'][1], 'size': 3},\n",
    "        legendgroup = 'LG',\n",
    "        hoverinfo='skip',\n",
    "        showlegend= False\n",
    "    ),\n",
    "    # kt 1차전 패\n",
    "    go.Scatter(\n",
    "        name = 'kt', \n",
    "        x = [0, 1],\n",
    "        y = [kt_win[0], sum([y for x, y in postseason_ratio(3, 1 - lg_gamewin, 0, 1).items() if x[0] == 3])],\n",
    "        mode = 'lines', line = {'color': team_color['KT'][0], 'width' : 3, 'dash': 'dash'}, marker = {'color': team_color['KT'][1], 'size': 3},\n",
    "        legendgroup = 'kt',\n",
    "        hoverinfo='skip',\n",
    "        showlegend= False,\n",
    "        visible = 'legendonly'\n",
    "    ),\n",
    "    # kt 2차전 승\n",
    "    go.Scatter(\n",
    "        name = 'kt', \n",
    "        x = [1, 2],\n",
    "        y = [kt_win[1], sum([y for x, y in postseason_ratio(3, 1 - lg_gamewin, 2, 0).items() if x[0] == 3])],\n",
    "        mode = 'lines', line = {'color': team_color['KT'][0], 'width' : 3, 'dash': 'dash'}, marker = {'color': team_color['KT'][1], 'size': 3},\n",
    "        legendgroup = 'kt',\n",
    "        hoverinfo='skip',\n",
    "        showlegend= False,\n",
    "        visible = 'legendonly'\n",
    "    ),\n",
    "    # kt 3차전 승\n",
    "    go.Scatter(\n",
    "        name = 'kt', \n",
    "        x = [2, 3],\n",
    "        y = [kt_win[2], sum([y for x, y in postseason_ratio(3, 1 - lg_gamewin, 2, 1).items() if x[0] == 3])],\n",
    "        mode = 'lines', line = {'color': team_color['KT'][0], 'width' : 3, 'dash': 'dash'}, marker = {'color': team_color['KT'][1], 'size': 3},\n",
    "        legendgroup = 'kt',\n",
    "        hoverinfo='skip',\n",
    "        showlegend= False,\n",
    "        visible = 'legendonly'\n",
    "    ),\n",
    "    # kt 4차전 패\n",
    "    go.Scatter(\n",
    "        name = 'kt', \n",
    "        x = [3, 4],\n",
    "        y = [kt_win[3], 0.0],\n",
    "        mode = 'lines', line = {'color': team_color['KT'][0], 'width' : 3, 'dash': 'dash'}, marker = {'color': team_color['KT'][1], 'size': 3},\n",
    "        legendgroup = 'kt',\n",
    "        hoverinfo='skip',\n",
    "        showlegend= False,\n",
    "        visible = 'legendonly'\n",
    "    ),\n",
    "    # kt 미래시\n",
    "    go.Scatter(\n",
    "        name = 'kt', \n",
    "        x = [4, 5],\n",
    "        y = [kt_win[-1], 1.0],\n",
    "        mode = 'lines', line = {'color': team_color['KT'][0], 'width' : 3, 'dash': 'dash'}, marker = {'color': team_color['KT'][1], 'size': 3},\n",
    "        legendgroup = 'kt',\n",
    "        hoverinfo='skip',\n",
    "        showlegend= False,\n",
    "        visible = 'legendonly'\n",
    "    ),\n",
    "    go.Scatter(\n",
    "        name = 'kt', \n",
    "        x = [4, 5],\n",
    "        y = [kt_win[-1], 0.0],\n",
    "        mode = 'lines', line = {'color': team_color['KT'][0], 'width' : 3, 'dash': 'dash'}, marker = {'color': team_color['KT'][1], 'size': 3},\n",
    "        legendgroup = 'kt',\n",
    "        hoverinfo='skip',\n",
    "        showlegend= False,\n",
    "        visible = 'legendonly'\n",
    "    )\n",
    "])"
   ]
  },
  {
   "cell_type": "code",
   "execution_count": 4,
   "metadata": {},
   "outputs": [],
   "source": [
    "wc_probability = dash_table.DataTable([\n",
    "    {\n",
    "        '(두산-kt)': '확률',\n",
    "        '2-0': '51.401%',\n",
    "        '2-1': '24.980%',\n",
    "        '1-2': '23.619%',\n",
    "        '두산 진출': '76.381%',\n",
    "        'kt 진출': '23.619%'\n",
    "    }\n",
    "],\n",
    "[{'name': i, 'id': i} for i in ['(두산-kt)', '2-0', '2-1', '두산 진출', '1-2', 'kt 진출']],\n",
    "style_cell_conditional=[\n",
    "    {'if': {'column_id': ['1-2', 'kt 진출']}, 'fontWeight': 'bold', 'backgroundColor': '#BEF5CE'},\n",
    "    {'if': {'column_id': ['두산 진출', 'kt 진출']}, 'border-left': '2px solid black' , 'border-right': '4px solid black'},\n",
    "    {'if': {'column_id': ['(두산-kt)']}, 'border-right': '4px solid black'}],\n",
    "style_header = {'text-align': 'center', 'fontWeight': 'bold'},\n",
    "style_data = {'text-align': 'center', 'padding': '3px'},\n",
    "style_table={'margin-left': 'auto', 'margin-right': 'auto', 'margin-top': '10px', 'margin-bottom': '10px', 'width': '100%', 'max-width': '600px', 'overflowX': 'auto'})"
   ]
  },
  {
   "cell_type": "code",
   "execution_count": 5,
   "metadata": {},
   "outputs": [],
   "source": [
    "spo_probability = dash_table.DataTable([\n",
    "    {\n",
    "        '(LG-kt)': '시리즈 초기',\n",
    "        '3-0': '14.722%',\n",
    "        '3-1': '20.845%',\n",
    "        '3-2': '19.677%',\n",
    "        '2-3': '17.588%',\n",
    "        '1-3': '16.654%',\n",
    "        '0-3': '10.514%',\n",
    "        'LG 진출': '55.244%',\n",
    "        'kt 진출': '44.756%'\n",
    "    },\n",
    "    {\n",
    "        '(LG-kt)': '현재',\n",
    "        '3-0': '0%',\n",
    "        '3-1': '0%',\n",
    "        '3-2': '52.803%',\n",
    "        '2-3': '47.197%',\n",
    "        '1-3': '0%',\n",
    "        '0-3': '0%',\n",
    "        'LG 진출': '52.803%',\n",
    "        'kt 진출': '47.197%'\n",
    "    }],\n",
    "    [{'name': i, 'id': i} for i in ['(LG-kt)', '3-0', '3-1', '3-2', 'LG 진출', '0-3', '1-3', '2-3', 'kt 진출']],\n",
    "    style_cell_conditional=[\n",
    "        {'if': {'column_id': ['3-0', '0-3', '1-3', '3-1']}, 'backgroundColor': '#C0C0C0'},\n",
    "        {'if': {'column_id': ['LG 진출', 'kt 진출']}, 'border-left': '2px solid black' , 'border-right': '4px solid black'},\n",
    "        {'if': {'column_id': ['(LG-kt)']}, 'border-right': '4px solid black'}],\n",
    "    style_header = {'text-align': 'center', 'fontWeight': 'bold'},\n",
    "    style_data = {'text-align': 'center', 'padding': '3px'},\n",
    "    style_table={'margin-left': 'auto', 'margin-right': 'auto', 'margin-top': '10px', 'margin-bottom': '10px', 'width': '100%', 'max-width': '800px', 'overflowX': 'auto'}\n",
    ")"
   ]
  },
  {
   "cell_type": "code",
   "execution_count": 6,
   "metadata": {},
   "outputs": [],
   "source": [
    "po_probability = dash_table.DataTable([\n",
    "    {\n",
    "        '(삼성-???)': 'LG',\n",
    "        '3-0': '13.587%',\n",
    "        '3-1': '19.806',\n",
    "        '3-2': '19.248%',\n",
    "        '2-3': '18.192%',\n",
    "        '1-3': '17.694%',\n",
    "        '0-3': '11.472%',\n",
    "        '삼성 진출': '52.641%',\n",
    "        '상대팀 진출': '47.359%'\n",
    "    },\n",
    "    {\n",
    "        '(삼성-???)': 'kt',\n",
    "        '3-0': '15.927%',\n",
    "        '3-1': '21.881%',\n",
    "        '3-2': '20.041%',\n",
    "        '2-3': '16.931%',\n",
    "        '1-3': '15.617%',\n",
    "        '0-3': '9.604%',\n",
    "        '삼성 진출': '57.849%',\n",
    "        '상대팀 진출': '42.151%'\n",
    "    }],\n",
    "    [{'name': i, 'id': i} for i in ['(삼성-???)', '3-0', '3-1', '3-2', '삼성 진출', '0-3', '1-3', '2-3', '상대팀 진출']],\n",
    "    style_cell_conditional=[\n",
    "        {'if': {'column_id': ['삼성 진출', '상대팀 진출']}, 'border-left': '2px solid black' , 'border-right': '4px solid black'},\n",
    "        {'if': {'column_id': ['(삼성-???)']}, 'border-right': '4px solid black'}],\n",
    "    style_header = {'text-align': 'center', 'fontWeight': 'bold'},\n",
    "    style_data = {'text-align': 'center', 'padding': '3px'},\n",
    "    style_table={'margin-left': 'auto', 'margin-right': 'auto', 'margin-top': '10px', 'margin-bottom': '10px', 'width': '100%', 'max-width': '800px', 'overflowX': 'auto'}\n",
    ")"
   ]
  },
  {
   "cell_type": "code",
   "execution_count": 7,
   "metadata": {},
   "outputs": [],
   "source": [
    "ks_probability = dash_table.DataTable([\n",
    "    {\n",
    "        '(KIA-???)': '삼성',\n",
    "        '4-0': '10.222%',\n",
    "        '4-1': '17.769%',\n",
    "        '4-2': '19.304%',\n",
    "        '4-3': '16.777%',\n",
    "        '0-4': '3.565%',\n",
    "        '1-4': '8.065%',\n",
    "        '2-4': '11.401%',\n",
    "        '3-4': '12.893%',\n",
    "        'KIA 우승': '64.072%',\n",
    "        '상대팀 우승': '35.928%'\n",
    "    },\n",
    "    {\n",
    "        '(KIA-???)': 'LG',\n",
    "        '4-0': '11.258%',\n",
    "        '4-1': '18.947%',\n",
    "        '4-2': '19.930%',\n",
    "        '4-3': '16.771%',\n",
    "        '0-4': '3.133%',\n",
    "        '1-4': '7.261%',\n",
    "        '2-4': '10.515%',\n",
    "        '3-4': '12.181%',\n",
    "        'KIA 우승': '66.909%',\n",
    "        '상대팀 우승': '33.091%'\n",
    "    },\n",
    "    {\n",
    "        '(KIA-???)': 'kt',\n",
    "        '4-0': '13.516%',\n",
    "        '4-1': '21.283%',\n",
    "        '4-2': '20.946%',\n",
    "        '4-3': '16.491%',\n",
    "        '0-4': '2.401%',\n",
    "        '1-4': '5.824%',\n",
    "        '2-4': '8.829%',\n",
    "        '3-4': '10.707%',\n",
    "        'KIA 우승': '72.281%',\n",
    "        '상대팀 우승': '27.719%'\n",
    "    }],\n",
    "    [{'name': i, 'id': i} for i in ['(KIA-???)', '4-0', '4-1', '4-2', '4-3', 'KIA 우승', '0-4', '1-4', '2-4', '3-4', '상대팀 우승']],\n",
    "    style_cell_conditional=[\n",
    "        {'if': {'column_id': ['KIA 우승', '상대팀 우승']}, 'border-left': '2px solid black' , 'border-right': '2px solid black'},\n",
    "        {'if': {'column_id': ['(KIA-???)']}, 'border-right': '4px solid black'}],\n",
    "    style_header = {'text-align': 'center', 'fontWeight': 'bold'},\n",
    "    style_data = {'text-align': 'center', 'padding': '3px'},\n",
    "    style_table={'margin-left': 'auto', 'margin-right': 'auto', 'margin-top': '10px', 'margin-bottom': '10px', 'width': '100%', 'max-width': '800px', 'overflowX': 'auto'}\n",
    ")"
   ]
  },
  {
   "cell_type": "code",
   "execution_count": 13,
   "metadata": {},
   "outputs": [],
   "source": [
    "write_json(wc_fig, file = 'fig/wc_fig.json', engine = 'json')\n",
    "write_json(spo_fig, file = 'fig/spo_fig.json', engine = 'json')\n",
    "write_json(po_fig, file = 'fig/po_fig.json', engine = 'json')\n",
    "write_json(ks_fig, file = 'fig/ks_fig.json', engine = 'json')"
   ]
  },
  {
   "cell_type": "code",
   "execution_count": 8,
   "metadata": {},
   "outputs": [],
   "source": [
    "with open('fig/wc_table.pkl', 'wb') as fw:\n",
    "    pickle.dump(obj = wc_probability, file = fw)\n",
    "with open('fig/spo_table.pkl', 'wb') as fw:\n",
    "    pickle.dump(obj = spo_probability, file = fw)\n",
    "with open('fig/po_table.pkl', 'wb') as fw:\n",
    "    pickle.dump(obj = po_probability, file = fw)\n",
    "with open('fig/ks_table.pkl', 'wb') as fw:\n",
    "    pickle.dump(obj = ks_probability, file = fw)"
   ]
  },
  {
   "cell_type": "code",
   "execution_count": null,
   "metadata": {},
   "outputs": [],
   "source": []
  }
 ],
 "metadata": {
  "kernelspec": {
   "display_name": "Python 3.12.7 ('cwp')",
   "language": "python",
   "name": "python3"
  },
  "language_info": {
   "codemirror_mode": {
    "name": "ipython",
    "version": 3
   },
   "file_extension": ".py",
   "mimetype": "text/x-python",
   "name": "python",
   "nbconvert_exporter": "python",
   "pygments_lexer": "ipython3",
   "version": "3.12.7"
  },
  "orig_nbformat": 4,
  "vscode": {
   "interpreter": {
    "hash": "c2a262f5e17a3d5181bf2b4644183563cf44fd45b34f25f9eefbdd8a10e6de54"
   }
  }
 },
 "nbformat": 4,
 "nbformat_minor": 2
}
